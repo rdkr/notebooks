{
 "cells": [
  {
   "cell_type": "markdown",
   "metadata": {},
   "source": [
    "# bep_0003 decode\n",
    "\n",
    "https://www.bittorrent.org/beps/bep_0003.html\n",
    "\n",
    "* Strings are length-prefixed base ten followed by a colon and the string. For example 4:spam corresponds to 'spam'.\n",
    "* Integers are represented by an 'i' followed by the number in base 10 followed by an 'e'. For example i3e corresponds to 3 and i-3e corresponds to -3. Integers have no size limitation. i-0e is invalid. All encodings with a leading zero, such as i03e, are invalid, other than i0e, which of course corresponds to 0.\n",
    "* Lists are encoded as an 'l' followed by their elements (also bencoded) followed by an 'e'. For example l4:spam4:eggse corresponds to ['spam', 'eggs'].\n",
    "* Dictionaries are encoded as a 'd' followed by a list of alternating keys and their corresponding values followed by an 'e'. For example, d3:cow3:moo4:spam4:eggse corresponds to {'cow': 'moo', 'spam': 'eggs'} and d4:spaml1:a1:bee corresponds to {'spam': ['a', 'b']}. Keys must be strings and appear in sorted order (sorted as raw strings, not alphanumerics)."
   ]
  },
  {
   "cell_type": "code",
   "execution_count": 53,
   "metadata": {},
   "outputs": [],
   "source": [
    "def decode(byte_string, remainder=None):\n",
    "    \n",
    "    byte_string = bytearray(byte_string)\n",
    "    char = chr(byte_string[0])\n",
    "\n",
    "    if char == \"d\":\n",
    "        content, remainder = _read_dict(byte_string[1:])\n",
    "\n",
    "    elif char == \"l\":\n",
    "        content, remainder = _read_list(byte_string[1:])\n",
    "\n",
    "    elif char == \"i\":\n",
    "        content, remainder = _read_int(byte_string[1:], \"e\")\n",
    "\n",
    "    else:\n",
    "        content, remainder = _read_string(byte_string)\n",
    "        \n",
    "    if remainder:\n",
    "        return content, remainder\n",
    "    else:\n",
    "        return content\n",
    "\n",
    "    \n",
    "def _read_dict(byte_string):\n",
    "    dict_ = {}\n",
    "    \n",
    "    while chr(byte_string[0]) != \"e\":\n",
    "        key, remainder = decode(byte_string)\n",
    "        value, remainder = decode(remainder)\n",
    "        dict_[key.decode()] = value\n",
    "        byte_string = remainder\n",
    "        \n",
    "    return dict_, byte_string[1:]\n",
    "\n",
    "\n",
    "def _read_list(byte_string):\n",
    "    list_ = []\n",
    "           \n",
    "    while chr(byte_string[0]) != \"e\":\n",
    "        string, remainder = decode(byte_string)\n",
    "        list_.append(string)\n",
    "        byte_string = remainder\n",
    "        \n",
    "    return list_, byte_string[1:]\n",
    "\n",
    "\n",
    "def _read_int(byte_string, end):\n",
    "    digits = []\n",
    "    \n",
    "    byte = byte_string.pop(0)\n",
    "    while chr(byte) != end:\n",
    "        digits.append(str(chr(byte)))\n",
    "        byte = byte_string.pop(0)\n",
    "  \n",
    "    return int(''.join(digits)), byte_string\n",
    "\n",
    "    \n",
    "def _read_string(byte_string):\n",
    "    num, rest = _read_int(byte_string, \":\")\n",
    "    return bytearray([byte_string.pop(0) for _ in range(num)]), byte_string\n",
    "\n",
    "\n",
    "def test_decode(f):\n",
    "    f(decode(b\"ll4:spam4:eggsel4:spam4:eggsee\") == [[bytearray(b'spam'), bytearray(b'eggs')], [bytearray(b'spam'), bytearray(b'eggs')]])\n",
    "    f(decode(b\"d3:cow3:moo4:spam4:eggse\") == {'cow': bytearray(b'moo'), 'spam': bytearray(b'eggs')})\n",
    "    f(decode(b\"d4:spaml1:a1:bee\") == {'spam': [bytearray(b'a'), bytearray(b'b')]})\n",
    "    f(decode(b\"li-3ei0ed3:cowi5400e4:spam4:eggsee\") == [-3, 0, {'cow': 5400, 'spam': bytearray(b'eggs')}])"
   ]
  },
  {
   "cell_type": "code",
   "execution_count": 54,
   "metadata": {},
   "outputs": [
    {
     "name": "stdout",
     "output_type": "stream",
     "text": [
      "True\n",
      "True\n",
      "True\n",
      "True\n",
      "102 µs ± 952 ns per loop (mean ± std. dev. of 7 runs, 10000 loops each)\n"
     ]
    }
   ],
   "source": [
    "test_decode(print)\n",
    "%timeit test_decode(lambda x: x)"
   ]
  },
  {
   "cell_type": "code",
   "execution_count": 66,
   "metadata": {},
   "outputs": [],
   "source": [
    "def decode(byte_string):\n",
    "    return _decode(bytearray(byte_string))[0]\n",
    "\n",
    "\n",
    "def _decode(byte_string, remainder=None):\n",
    "    \n",
    "    byte = byte_string[0]\n",
    "\n",
    "    if byte == ord(\"i\"):\n",
    "        del byte_string[0]\n",
    "        return _read_int(byte_string, ord(\"e\"))\n",
    "    elif byte == ord(\"l\"):\n",
    "        del byte_string[0]\n",
    "        return _read_list(byte_string)\n",
    "    elif byte == ord(\"d\"):\n",
    "        del byte_string[0]\n",
    "        return _read_dict(byte_string)\n",
    "    else:\n",
    "        return _read_string(byte_string)\n",
    "        \n",
    "    \n",
    "def _read_dict(byte_string):\n",
    "    dict_ = {}\n",
    "    \n",
    "    while byte_string[0] != ord(\"e\"):\n",
    "        key, remainder = _decode(byte_string)\n",
    "        value, remainder = _decode(remainder)\n",
    "        dict_[key.decode()] = value\n",
    "        byte_string = remainder\n",
    "        \n",
    "    return dict_, byte_string[1:]\n",
    "\n",
    "\n",
    "def _read_list(byte_string):\n",
    "    list_ = []\n",
    "           \n",
    "    while byte_string[0] != ord(\"e\"):\n",
    "        string, remainder = _decode(byte_string)\n",
    "        list_.append(string)\n",
    "        byte_string = remainder\n",
    "        \n",
    "    return list_, byte_string[1:]\n",
    "\n",
    "\n",
    "def _read_int(byte_string, end):\n",
    "    digits = []\n",
    "    \n",
    "    byte = byte_string.pop(0)\n",
    "    while byte != end:\n",
    "        digits.append(str(chr(byte)))\n",
    "        byte = byte_string.pop(0)\n",
    "  \n",
    "    return int(''.join(digits)), byte_string\n",
    "\n",
    "    \n",
    "def _read_string(byte_string):\n",
    "    num, rest = _read_int(byte_string, ord(\":\"))\n",
    "    return bytearray([byte_string.pop(0) for _ in range(num)]), byte_string\n",
    "\n",
    "\n",
    "def test_decode(f):\n",
    "    f(decode(b\"ll4:spam4:eggsel4:spam4:eggsee\") == [[bytearray(b'spam'), bytearray(b'eggs')], [bytearray(b'spam'), bytearray(b'eggs')]])\n",
    "    f(decode(b\"d3:cow3:moo4:spam4:eggse\") == {'cow': bytearray(b'moo'), 'spam': bytearray(b'eggs')})\n",
    "    f(decode(b\"d4:spaml1:a1:bee\") == {'spam': [bytearray(b'a'), bytearray(b'b')]})\n",
    "    f(decode(b\"li-3ei0ed3:cowi5400e4:spam4:eggsee\") == [-3, 0, {'cow': 5400, 'spam': bytearray(b'eggs')}])"
   ]
  },
  {
   "cell_type": "code",
   "execution_count": 67,
   "metadata": {},
   "outputs": [
    {
     "name": "stdout",
     "output_type": "stream",
     "text": [
      "True\n",
      "True\n",
      "True\n",
      "True\n",
      "89.8 µs ± 904 ns per loop (mean ± std. dev. of 7 runs, 10000 loops each)\n"
     ]
    }
   ],
   "source": [
    "test_decode(print)\n",
    "%timeit test_decode(lambda x: x)"
   ]
  },
  {
   "cell_type": "code",
   "execution_count": 68,
   "metadata": {},
   "outputs": [
    {
     "data": {
      "text/plain": [
       "b'd2:ip6:\\xbc\\xd6\\x0b\\x1a\\x1b\\xdc1:rd2:id20:2\\xf5NisQ\\xffJ\\xec)\\xcd\\xba\\xab\\xf2\\xfb\\xe3F|\\xc2g5:nodes416:\\xf8\\xfd_I\\x92\\xa1\\x85}[\\xeez\\xb9F)\\x05IW6ur\\xc9]F\\x0e\\x89d\\xd6\\xf0\\x98\\xcd\\xf6\\xd6%\\x9b\\xeb\\xb7\\x02\\x91\\xe0\\xdf\\xd7\\xb3\\xf4!U%=\\xc5\\xf3\\xc2\\xaa[\\'\\x8e1\\xee\\x86\\xa5\\xda\\xaa\\x9e\\x85\\xe1\\xccd\\x86t\\xb9HP\\xb4-\\xb8\\xa7\\xdeo\\xf2\\x0f\\x9a\\t*\\xd1\\x08\\xad;\\xe3\\xf4U,:6*Uv[\\xacj\\xf9B\\xb0\\xb6a\\xc4\\x91\\xe2}\\xc5\\xc5\\x15\\xd9\\x88\\x864\\xc9\\xe7m\\x9aW\\x02\\x11\\xe6\\xb2\\x0c2-\\xf7\\x813\\xe90#\\xfe\\x14I\\xf1\\xf1\\xbb\\xe9\\xeb\\xb3\\xa6\\xdb<\\x87\\x0c>\\x99$^R\\x8e\\xb3\\x04Xx\\x08\\xc8L\\xa8\\x04\\xd5JV\\x84s\\xea\\xc9\\xc0\\x0fk\\x92\\nO\\xac\\xfd\\xf1b\\xcb2\\x1c\\xc4\\x91\\xd4|\\xae\\x9ap(\\xcf\\'\\x02=\\r\\xe3\\xcfq0\\xf72\\xb9\\xb2\\xd5o\\xffd&\"\\xdf\\x05\\x17P\\xd6h\\n7\\xaf\\xd0\\xef\\xf2i\\x17\\xd3\\x03\\xd9\\x08\\xd1iU\\\\\\xdd\\x0bs\\x1a\\xe1\\xf7\\xb2\\xefQ\\x05\\xcc;\\x92B\\xa1I(\\xd6\\x8f5\\xeb\\xf4\\xdcw\\x85I\\xc6z\\x9f\\xc4\\x91\\t0#\\xe4\\x1a\\xdd\\x12\\x95LP\\x1c\\x9b-\\xf2\\xeep\\xb9U\\x07^/$\\x97\\xf1\\x1a\\xe2\\x9ab<\\xfa\\x84a4V\\xc0>x^T\\xc9<\\xc6\\x02\\x7f\\xdb\\xc9F1\\xbf\\xda\\x1a\\xe1\\x86\\xe4\\xc4\\xf3O\\x11\\x01;\\xc1-[\\xf4\\xff\\xc8A\\xfe{\\xeb\\xb5\\xe9h !\\xb4\\xc4\\x91\\x8a\\xcc\\xdcW\\x94rp%o\\xff\\xce+\\x08\\x9a\\xd19\\x7f\\xd5\\x93\\x03\\xac:\\x8dy\\x8b\\x8b\\xc8H\\xd4\\xa8S\\xef\\xb8s\\xe5<\\xfb\\'\\xaeS,\\xb5\\xdf\\xbe2\\x04V\\xb9\\xedz\\x1a\\xe1jD\\xb7\\x96\\x1b\\xa0e\\xe0\\xb9\\xc8\\x00\\xf4\\xf9@\\xce\\x8d\\xc8\\\\\\xb7=\\x8d\\x08DL\\x1a\\xe1e1:t2:aa1:y1:re'"
      ]
     },
     "execution_count": 68,
     "metadata": {},
     "output_type": "execute_result"
    }
   ],
   "source": [
    "import socket\n",
    "import sys\n",
    "\n",
    "\n",
    "sock = socket.socket(socket.AF_INET, socket.SOCK_DGRAM)\n",
    "server_address = (\"67.215.246.10\", 6881)\n",
    "\n",
    "message = 'd1:ad2:id20:abcdefghij01234567896:target20:mnopqrstuvwxyz123456e1:q9:find_node1:t2:aa1:y1:qe'\n",
    "# message = 'd1:ad2:id20:abcdefghij0123456789e1:q4:ping1:t2:aa1:y1:qe'\n",
    "sent = sock.sendto(message.encode(), server_address)\n",
    "data, server = sock.recvfrom(8000)\n",
    "data"
   ]
  },
  {
   "cell_type": "code",
   "execution_count": 71,
   "metadata": {},
   "outputs": [
    {
     "data": {
      "text/plain": [
       "IPv6Address('::bcd6:b1a:1bdc')"
      ]
     },
     "execution_count": 71,
     "metadata": {},
     "output_type": "execute_result"
    }
   ],
   "source": [
    "import ipaddress\n",
    "\n",
    "# ipaddress.ip_address(decode(data)['ip'])\n",
    "ipaddress.ip_address(int.from_bytes(decode(data)['ip'], byteorder=\"big\"))"
   ]
  },
  {
   "cell_type": "code",
   "execution_count": 72,
   "metadata": {},
   "outputs": [
    {
     "data": {
      "text/plain": [
       "{'ip': bytearray(b'\\xbc\\xd6\\x0b\\x1a\\x1b\\xdc'),\n",
       " 'r': {'id': bytearray(b'2\\xf5NisQ\\xffJ\\xec)\\xcd\\xba\\xab\\xf2\\xfb\\xe3F|\\xc2g'),\n",
       "  'nodes': bytearray(b'\\xf8\\xfd_I\\x92\\xa1\\x85}[\\xeez\\xb9F)\\x05IW6ur\\xc9]F\\x0e\\x89d\\xd6\\xf0\\x98\\xcd\\xf6\\xd6%\\x9b\\xeb\\xb7\\x02\\x91\\xe0\\xdf\\xd7\\xb3\\xf4!U%=\\xc5\\xf3\\xc2\\xaa[\\'\\x8e1\\xee\\x86\\xa5\\xda\\xaa\\x9e\\x85\\xe1\\xccd\\x86t\\xb9HP\\xb4-\\xb8\\xa7\\xdeo\\xf2\\x0f\\x9a\\t*\\xd1\\x08\\xad;\\xe3\\xf4U,:6*Uv[\\xacj\\xf9B\\xb0\\xb6a\\xc4\\x91\\xe2}\\xc5\\xc5\\x15\\xd9\\x88\\x864\\xc9\\xe7m\\x9aW\\x02\\x11\\xe6\\xb2\\x0c2-\\xf7\\x813\\xe90#\\xfe\\x14I\\xf1\\xf1\\xbb\\xe9\\xeb\\xb3\\xa6\\xdb<\\x87\\x0c>\\x99$^R\\x8e\\xb3\\x04Xx\\x08\\xc8L\\xa8\\x04\\xd5JV\\x84s\\xea\\xc9\\xc0\\x0fk\\x92\\nO\\xac\\xfd\\xf1b\\xcb2\\x1c\\xc4\\x91\\xd4|\\xae\\x9ap(\\xcf\\'\\x02=\\r\\xe3\\xcfq0\\xf72\\xb9\\xb2\\xd5o\\xffd&\"\\xdf\\x05\\x17P\\xd6h\\n7\\xaf\\xd0\\xef\\xf2i\\x17\\xd3\\x03\\xd9\\x08\\xd1iU\\\\\\xdd\\x0bs\\x1a\\xe1\\xf7\\xb2\\xefQ\\x05\\xcc;\\x92B\\xa1I(\\xd6\\x8f5\\xeb\\xf4\\xdcw\\x85I\\xc6z\\x9f\\xc4\\x91\\t0#\\xe4\\x1a\\xdd\\x12\\x95LP\\x1c\\x9b-\\xf2\\xeep\\xb9U\\x07^/$\\x97\\xf1\\x1a\\xe2\\x9ab<\\xfa\\x84a4V\\xc0>x^T\\xc9<\\xc6\\x02\\x7f\\xdb\\xc9F1\\xbf\\xda\\x1a\\xe1\\x86\\xe4\\xc4\\xf3O\\x11\\x01;\\xc1-[\\xf4\\xff\\xc8A\\xfe{\\xeb\\xb5\\xe9h !\\xb4\\xc4\\x91\\x8a\\xcc\\xdcW\\x94rp%o\\xff\\xce+\\x08\\x9a\\xd19\\x7f\\xd5\\x93\\x03\\xac:\\x8dy\\x8b\\x8b\\xc8H\\xd4\\xa8S\\xef\\xb8s\\xe5<\\xfb\\'\\xaeS,\\xb5\\xdf\\xbe2\\x04V\\xb9\\xedz\\x1a\\xe1jD\\xb7\\x96\\x1b\\xa0e\\xe0\\xb9\\xc8\\x00\\xf4\\xf9@\\xce\\x8d\\xc8\\\\\\xb7=\\x8d\\x08DL\\x1a\\xe1')},\n",
       " 't': bytearray(b'aa'),\n",
       " 'y': bytearray(b'r')}"
      ]
     },
     "execution_count": 72,
     "metadata": {},
     "output_type": "execute_result"
    }
   ],
   "source": [
    "decode(data)"
   ]
  },
  {
   "cell_type": "code",
   "execution_count": null,
   "metadata": {},
   "outputs": [],
   "source": []
  }
 ],
 "metadata": {
  "kernelspec": {
   "display_name": "Python 3",
   "language": "python",
   "name": "python3"
  },
  "language_info": {
   "codemirror_mode": {
    "name": "ipython",
    "version": 3
   },
   "file_extension": ".py",
   "mimetype": "text/x-python",
   "name": "python",
   "nbconvert_exporter": "python",
   "pygments_lexer": "ipython3",
   "version": "3.7.3"
  }
 },
 "nbformat": 4,
 "nbformat_minor": 2
}
