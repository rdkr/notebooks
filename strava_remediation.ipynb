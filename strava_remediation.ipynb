{
 "cells": [
  {
   "cell_type": "code",
   "execution_count": 1,
   "metadata": {},
   "outputs": [
    {
     "name": "stdout",
     "output_type": "stream",
     "text": [
      "Collecting stravalib\n",
      "\u001b[?25l  Downloading https://files.pythonhosted.org/packages/fe/37/9161484786583fe6a038747e9f14555830de4581f025f086697466023ec6/stravalib-0.10.2.tar.gz (88kB)\n",
      "\u001b[K    100% |████████████████████████████████| 92kB 126kB/s \n",
      "\u001b[?25hCollecting arrow (from stravalib)\n",
      "  Downloading https://files.pythonhosted.org/packages/28/2f/1be1d6914409d27a3eefc621676a50951edafca30f74bd731c8fb5ecdc24/arrow-0.13.2-py2.py3-none-any.whl\n",
      "Requirement already satisfied: requests<3.0dev,>=2.0 in /opt/conda/lib/python3.7/site-packages (from stravalib) (2.21.0)\n",
      "Collecting units (from stravalib)\n",
      "  Downloading https://files.pythonhosted.org/packages/33/8c/76112215f71aad89ffecae90dd1e0a681ad8f750df994d4ce1275bca50a2/units-0.07.tar.gz\n",
      "Requirement already satisfied: pytz in /opt/conda/lib/python3.7/site-packages (from stravalib) (2019.1)\n",
      "Requirement already satisfied: six in /opt/conda/lib/python3.7/site-packages (from stravalib) (1.12.0)\n",
      "Requirement already satisfied: python-dateutil in /opt/conda/lib/python3.7/site-packages (from arrow->stravalib) (2.8.0)\n",
      "Requirement already satisfied: urllib3<1.25,>=1.21.1 in /opt/conda/lib/python3.7/site-packages (from requests<3.0dev,>=2.0->stravalib) (1.24.2)\n",
      "Requirement already satisfied: certifi>=2017.4.17 in /opt/conda/lib/python3.7/site-packages (from requests<3.0dev,>=2.0->stravalib) (2019.3.9)\n",
      "Requirement already satisfied: chardet<3.1.0,>=3.0.2 in /opt/conda/lib/python3.7/site-packages (from requests<3.0dev,>=2.0->stravalib) (3.0.4)\n",
      "Requirement already satisfied: idna<2.9,>=2.5 in /opt/conda/lib/python3.7/site-packages (from requests<3.0dev,>=2.0->stravalib) (2.8)\n",
      "Building wheels for collected packages: stravalib, units\n",
      "  Building wheel for stravalib (setup.py) ... \u001b[?25ldone\n",
      "\u001b[?25h  Stored in directory: /home/jovyan/.cache/pip/wheels/69/cd/0d/c2769446bc388a177c1fe8917d2f657b26363f7d8043a6c535\n",
      "  Building wheel for units (setup.py) ... \u001b[?25ldone\n",
      "\u001b[?25h  Stored in directory: /home/jovyan/.cache/pip/wheels/fe/85/88/51b4cc421dd9dad17934779e59ad01462074f8b23d3c4ff545\n",
      "Successfully built stravalib units\n",
      "Installing collected packages: arrow, units, stravalib\n",
      "Successfully installed arrow-0.13.2 stravalib-0.10.2 units-0.7\n"
     ]
    }
   ],
   "source": [
    "!pip install stravalib"
   ]
  },
  {
   "cell_type": "code",
   "execution_count": 86,
   "metadata": {},
   "outputs": [
    {
     "data": {
      "text/plain": [
       "'https://www.strava.com/oauth/authorize?client_id=35605&redirect_uri=http%3A%2F%2Flocalhost%2F&approval_prompt=auto&response_type=code&scope=activity%3Aread_all%2Cactivity%3Awrite'"
      ]
     },
     "execution_count": 86,
     "metadata": {},
     "output_type": "execute_result"
    }
   ],
   "source": [
    "import time\n",
    "\n",
    "from stravalib.client import Client\n",
    "\n",
    "CLIENT_ID = 35605\n",
    "CLIENT_SECRET = \"000000000000000000\"\n",
    "\n",
    "client = Client()\n",
    "scopes = ['activity:read_all', 'activity:write']\n",
    "client.authorization_url(client_id=CLIENT_ID, redirect_uri='http://localhost/', scope=scopes)"
   ]
  },
  {
   "cell_type": "code",
   "execution_count": 88,
   "metadata": {},
   "outputs": [],
   "source": [
    "CODE = \"000000000000000000\"\n",
    "\n",
    "client.access_token = client.exchange_code_for_token(client_id=CLIENT_ID, client_secret=CLIENT_SECRET, code=CODE)['access_token']"
   ]
  },
  {
   "cell_type": "code",
   "execution_count": 103,
   "metadata": {},
   "outputs": [],
   "source": [
    "athlete = client.get_athlete()\n",
    "activities = [a for a in client.get_activities()]"
   ]
  },
  {
   "cell_type": "code",
   "execution_count": 100,
   "metadata": {},
   "outputs": [
    {
     "data": {
      "text/plain": [
       "'b5763892'"
      ]
     },
     "execution_count": 100,
     "metadata": {},
     "output_type": "execute_result"
    }
   ],
   "source": [
    "activities[0].gear_id"
   ]
  },
  {
   "cell_type": "code",
   "execution_count": 105,
   "metadata": {},
   "outputs": [
    {
     "data": {
      "text/html": [
       "<div>\n",
       "<style scoped>\n",
       "    .dataframe tbody tr th:only-of-type {\n",
       "        vertical-align: middle;\n",
       "    }\n",
       "\n",
       "    .dataframe tbody tr th {\n",
       "        vertical-align: top;\n",
       "    }\n",
       "\n",
       "    .dataframe thead th {\n",
       "        text-align: right;\n",
       "    }\n",
       "</style>\n",
       "<table border=\"1\" class=\"dataframe\">\n",
       "  <thead>\n",
       "    <tr style=\"text-align: right;\">\n",
       "      <th></th>\n",
       "    </tr>\n",
       "  </thead>\n",
       "  <tbody>\n",
       "  </tbody>\n",
       "</table>\n",
       "</div>"
      ],
      "text/plain": [
       "Empty DataFrame\n",
       "Columns: []\n",
       "Index: []"
      ]
     },
     "execution_count": 105,
     "metadata": {},
     "output_type": "execute_result"
    }
   ],
   "source": [
    "import pandas as pd\n",
    "import datetime\n",
    "\n",
    "pd.set_option('display.max_rows', None)\n",
    "pd.set_option('display.max_columns', None)\n",
    "    \n",
    "def check_activity(activity):\n",
    "#     if activity.commute:\n",
    "#         return False\n",
    "    if activity.gear_id:\n",
    "        return False\n",
    "#     if not activity.start_date.replace(tzinfo=None) < datetime.datetime(2018, 1, 1):\n",
    "#         return False       \n",
    "#     if activity.distance < 10000:\n",
    "#         return True\n",
    "    return True\n",
    "\n",
    "\n",
    "filtered = [activity for activity in activities if check_activity(activity)]\n",
    "\n",
    "pd.DataFrame([\n",
    "    {\"name\": activity.name,\n",
    "     \"date\": activity.start_date,\n",
    "     \"distance\": activity.distance,\n",
    "     \"gear\": activity.gear_i\n",
    "    } for activity in filtered])"
   ]
  },
  {
   "cell_type": "code",
   "execution_count": 102,
   "metadata": {},
   "outputs": [],
   "source": [
    "for activity in filtered:\n",
    "#     client.update_activity(activity.id, commute=True)\n",
    "#     client.update_activity(activity.id, gear_id='b5763892')"
   ]
  }
 ],
 "metadata": {
  "kernelspec": {
   "display_name": "Python 3",
   "language": "python",
   "name": "python3"
  },
  "language_info": {
   "codemirror_mode": {
    "name": "ipython",
    "version": 3
   },
   "file_extension": ".py",
   "mimetype": "text/x-python",
   "name": "python",
   "nbconvert_exporter": "python",
   "pygments_lexer": "ipython3",
   "version": "3.7.3"
  }
 },
 "nbformat": 4,
 "nbformat_minor": 2
}
